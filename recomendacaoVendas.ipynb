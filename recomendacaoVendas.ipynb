{
  "nbformat": 4,
  "nbformat_minor": 0,
  "metadata": {
    "colab": {
      "name": "recomendacaoVendas.ipynb",
      "provenance": [],
      "collapsed_sections": [],
      "mount_file_id": "1jzMmdPhWBw_fKI6vD2lbtohKK8tfRLXQ",
      "authorship_tag": "ABX9TyPxE8LlrUc8fJ50kki9yQdS"
    },
    "kernelspec": {
      "name": "python3",
      "display_name": "Python 3"
    },
    "language_info": {
      "name": "python"
    }
  },
  "cells": [
    {
      "cell_type": "code",
      "execution_count": 14,
      "metadata": {
        "id": "ZUPCG_irBbP2"
      },
      "outputs": [],
      "source": [
        "import random\n",
        "import pandas as pd\n",
        "import numpy as np\n",
        "from scipy.sparse import csr_matrix\n",
        "from sklearn.neighbors import NearestNeighbors"
      ]
    },
    {
      "cell_type": "code",
      "source": [
        "tabela = pd.read_excel(\"/content/drive/MyDrive/Colab Notebooks/vendas_2022-04-20-16-14-59 1.xlsx\")\n",
        "\n",
        "df = pd.DataFrame(tabela, columns = ['ID', 'Descrição', 'Quantidade'])\n",
        "\n",
        "df.rename(columns = {'ID':'id-usuario', 'Descrição':'nome-produto', 'Quantidade':'compra'}, inplace = True)\n",
        "\n",
        "df['compra'] = 1\n",
        "\n",
        "table_pivot = df.pivot(index = 'nome-produto', columns = 'id-usuario', values = 'compra')\n",
        "\n",
        "replaceNaN = table_pivot.fillna(0, inplace = True)\n",
        "\n",
        "table_sparse = csr_matrix(table_pivot)"
      ],
      "metadata": {
        "id": "dcOeOkLqp6kH"
      },
      "execution_count": 15,
      "outputs": []
    },
    {
      "cell_type": "code",
      "source": [
        "model = NearestNeighbors(algorithm = 'brute')\n",
        "model.fit(table_sparse)"
      ],
      "metadata": {
        "id": "NRQJE5orqCgv"
      },
      "execution_count": null,
      "outputs": []
    },
    {
      "cell_type": "code",
      "source": [
        "random_client = random.randint(0,356)\n",
        "\n",
        "distances, suggestions = model.kneighbors(table_pivot.iloc[random_client, :].values.reshape(1, -1))\n",
        "for i in range(len(suggestions)):\n",
        "  print(table_pivot.index[suggestions[i]])\n",
        "\n",
        "print(f\"Recomendação feita para o cliente: {random_client}\")"
      ],
      "metadata": {
        "id": "kBzKLazld5Dk",
        "colab": {
          "base_uri": "https://localhost:8080/"
        },
        "outputId": "b2dd36ed-6a82-4e64-f7a6-6ccbb194d01d"
      },
      "execution_count": 27,
      "outputs": [
        {
          "output_type": "stream",
          "name": "stdout",
          "text": [
            "Index(['Massa com Ovos Santa Amália Cabelo de Anjo 500g',\n",
            "       'Amaciante Ypê Aconchego 5L', 'Fubá Juparanã 1kg',\n",
            "       'Achocolatado em Pó Toddy Original 400g',\n",
            "       'Sabão em Pó Omo Lavagem Perfeita 1,6kg'],\n",
            "      dtype='object', name='nome-produto')\n",
            "Recomendação feita para o cliente: 222\n"
          ]
        }
      ]
    }
  ]
}