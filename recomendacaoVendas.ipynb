{
  "nbformat": 4,
  "nbformat_minor": 0,
  "metadata": {
    "colab": {
      "name": "recomendacaoVendas.ipynb",
      "provenance": [],
      "collapsed_sections": [],
      "mount_file_id": "1jzMmdPhWBw_fKI6vD2lbtohKK8tfRLXQ",
      "authorship_tag": "ABX9TyMarRd2EkMEGAUM9f/cKKPW"
    },
    "kernelspec": {
      "name": "python3",
      "display_name": "Python 3"
    },
    "language_info": {
      "name": "python"
    }
  },
  "cells": [
    {
      "cell_type": "code",
      "execution_count": null,
      "metadata": {
        "id": "ZUPCG_irBbP2"
      },
      "outputs": [],
      "source": [
        "import pandas as pd\n",
        "import numpy as np\n",
        "from scipy.sparse import csr_matrix\n",
        "from sklearn.neighbors import NearestNeighbors"
      ]
    },
    {
      "cell_type": "code",
      "source": [
        "tabela = pd.read_excel(\"/content/drive/MyDrive/Colab Notebooks/vendas_2022-04-20-16-14-59 1.xlsx\")\n",
        "\n",
        "df = pd.DataFrame(tabela, columns = ['ID', 'Descrição', 'Quantidade'])\n",
        "\n",
        "pd.set_option('display.max_rows', df.shape[0]+1)\n",
        "pd.set_option('display.max_columns', df.shape[0]+1)\n",
        "\n",
        "df.rename(columns = {'ID':'id-usuario', 'Descrição':'nome-produto', 'Quantidade':'compra'}, inplace = True)\n",
        "\n",
        "df['compra'] = 1\n",
        "\n",
        "table_pivot = df.pivot(index = 'nome-produto', columns = 'id-usuario', values = 'compra')\n",
        "\n",
        "replaceNaN = table_pivot.fillna(0, inplace = True)\n",
        "\n",
        "# display(table_pivot)\n",
        "\n",
        "table_sparse = csr_matrix(table_pivot)\n",
        "\n",
        "# print(matrix)"
      ],
      "metadata": {
        "id": "dcOeOkLqp6kH"
      },
      "execution_count": null,
      "outputs": []
    },
    {
      "cell_type": "code",
      "source": [
        "model = NearestNeighbors(algorithm = 'brute')\n",
        "model.fit(table_sparse)"
      ],
      "metadata": {
        "id": "NRQJE5orqCgv",
        "colab": {
          "base_uri": "https://localhost:8080/"
        },
        "outputId": "9d6ed7a3-61e5-47bc-fcfa-8019f4ae8c5e"
      },
      "execution_count": null,
      "outputs": [
        {
          "output_type": "execute_result",
          "data": {
            "text/plain": [
              "NearestNeighbors(algorithm='brute')"
            ]
          },
          "metadata": {},
          "execution_count": 58
        }
      ]
    },
    {
      "cell_type": "code",
      "source": [
        "distances, suggestions = model.kneighbors(table_pivot.iloc[1, :].values.reshape(1, -1))\n",
        "for i in range(len(suggestions)):\n",
        "  print(table_pivot.index[suggestions[i]])"
      ],
      "metadata": {
        "id": "kBzKLazld5Dk"
      },
      "execution_count": null,
      "outputs": []
    }
  ]
}