{
  "cells": [
    {
      "cell_type": "code",
      "execution_count": 1,
      "metadata": {
        "id": "ZUPCG_irBbP2"
      },
      "outputs": [],
      "source": [
        "import pandas as pd\n",
        "import numpy as np\n",
        "from scipy.sparse import csr_matrix\n",
        "from sklearn.neighbors import NearestNeighbors"
      ]
    },
    {
      "cell_type": "code",
      "execution_count": null,
      "metadata": {
        "id": "dcOeOkLqp6kH"
      },
      "outputs": [],
      "source": [
        "tabela = pd.read_excel(\"vendas_2022-04-20-16-14-59 1.xlsx\")\n",
        "\n",
        "df = pd.DataFrame(tabela, columns = ['ID', 'Descrição', 'Quantidade'])\n",
        "\n",
        "pd.set_option('display.max_rows', df.shape[0]+1)\n",
        "pd.set_option('display.max_columns', df.shape[0]+1)\n",
        "\n",
        "df.rename(columns = {'ID':'id-usuario', 'Descrição':'nome-produto', 'Quantidade':'compra'}, inplace = True)\n",
        "\n",
        "df['compra'] = 1\n",
        "\n",
        "table_pivot = df.pivot(index = 'nome-produto', columns = 'id-usuario', values = 'compra')\n",
        "\n",
        "replaceNaN = table_pivot.fillna(0, inplace = True)\n",
        "\n",
        "# display(table_pivot)\n",
        "\n",
        "table_sparse = csr_matrix(table_pivot)\n",
        "\n",
        "# print(matrix)"
      ]
    },
    {
      "cell_type": "code",
      "execution_count": null,
      "metadata": {
        "colab": {
          "base_uri": "https://localhost:8080/"
        },
        "id": "NRQJE5orqCgv",
        "outputId": "9d6ed7a3-61e5-47bc-fcfa-8019f4ae8c5e"
      },
      "outputs": [
        {
          "data": {
            "text/plain": [
              "NearestNeighbors(algorithm='brute')"
            ]
          },
          "execution_count": 58,
          "metadata": {},
          "output_type": "execute_result"
        }
      ],
      "source": [
        "model = NearestNeighbors(algorithm = 'brute')\n",
        "model.fit(table_sparse)"
      ]
    },
    {
      "cell_type": "code",
      "execution_count": null,
      "metadata": {
        "id": "kBzKLazld5Dk"
      },
      "outputs": [
        {
          "ename": "",
          "evalue": "",
          "output_type": "error",
          "traceback": [
            "\u001b[1;31mA execução de células com \"Python 3.10.4 64-bit\" requer o pacote ipykernel.\n",
            "Execute o seguinte comando para instalar \"ipykernel\" no ambiente do Python. \r\n",
            "Comando: \"c:/Users/joseb/AppData/Local/Programs/Python/Python310/python.exe -m pip install ipykernel -U --user --force-reinstall\""
          ]
        }
      ],
      "source": [
        "distances, suggestions = model.kneighbors(table_pivot.iloc[1, :].values.reshape(1, -1))\n",
        "for i in range(len(suggestions)):\n",
        "  print(table_pivot.index[suggestions[i]])"
      ]
    }
  ],
  "metadata": {
    "colab": {
      "authorship_tag": "ABX9TyMarRd2EkMEGAUM9f/cKKPW",
      "collapsed_sections": [],
      "mount_file_id": "1jzMmdPhWBw_fKI6vD2lbtohKK8tfRLXQ",
      "name": "recomendacaoVendas.ipynb",
      "provenance": []
    },
    "kernelspec": {
      "display_name": "Python 3.10.4 64-bit",
      "language": "python",
      "name": "python3"
    },
    "language_info": {
      "codemirror_mode": {
        "name": "ipython",
        "version": 3
      },
      "file_extension": ".py",
      "mimetype": "text/x-python",
      "name": "python",
      "nbconvert_exporter": "python",
      "pygments_lexer": "ipython3",
      "version": "3.10.4"
    },
    "vscode": {
      "interpreter": {
        "hash": "0764b4ab1cb4df747353109edecb473e64c31bd0bfcf97747049310c692f3a16"
      }
    }
  },
  "nbformat": 4,
  "nbformat_minor": 0
}
